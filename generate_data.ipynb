{
 "cells": [
  {
   "cell_type": "markdown",
   "metadata": {},
   "source": [
    "# Jesse's ODE data"
   ]
  },
  {
   "cell_type": "code",
   "execution_count": 23,
   "metadata": {},
   "outputs": [],
   "source": [
    "import torch\n",
    "from torchdiffeq import odeint\n",
    "import numpy as np"
   ]
  },
  {
   "cell_type": "code",
   "execution_count": 24,
   "metadata": {},
   "outputs": [],
   "source": [
    "#governing_ODE_equations\n",
    "def hyperbolic():\n",
    "    #define your custom equation here\n",
    "    mu = -0.05\n",
    "    lam = -1.0\n",
    "\n",
    "    number_of_states = 2\n",
    "\n",
    "    def hyperbolic_rhs_torch(t,x):\n",
    "        return torch.cat( (mu*x[:,0], lam*(x[:,1]-x[:,0]**2)), axis=-1)\n",
    "\n",
    "    return hyperbolic_rhs_torch, number_of_states\n",
    "\n",
    "def lorenz63():\n",
    "    #define your custom equation here\n",
    "    sigma = 10\n",
    "    rho = 28\n",
    "    beta = 8/3\n",
    "\n",
    "    number_of_states = 3\n",
    "\n",
    "    def lorenz63_rhs_torch(t,x):\n",
    "        return torch.cat( (sigma*(x[:,1] - x[:,0]), rho*x[:,0]-x[:,0]*x[:,2]-x[:,1], x[:,0]*x[:,1] - beta*x[:,2]), axis=-1)\n",
    "\n",
    "    return lorenz63_rhs_torch, number_of_states\n",
    "\n",
    "def lorenz96():\n",
    "    # system\n",
    "    F = 8 \n",
    "    N = 6\n",
    "\n",
    "    number_of_states = 6\n",
    "        \n",
    "    def lorenz_rhs_torch(t,x):\n",
    "        f = torch.zeros_like(x)\n",
    "        for i in range(2,N-1):\n",
    "            f[:,i]      = (x[:,i+1] - x[:,i-2]) * x[:,i-1] - x[:,i]   + F\n",
    "            f[:,0]      = (x[:,1]   - x[:,N-2]) * x[:,N-1] - x[:,0]   + F\n",
    "            f[:,1]      = (x[:,2]   - x[:,N-1]) * x[:,0]   - x[:,1]   + F\n",
    "            f[:,N-1]    = (x[:,0]   - x[:,N-3]) * x[:,N-2] - x[:,N-1] + F\n",
    "        return f \n",
    "    \n",
    "    return lorenz_rhs_torch, number_of_states"
   ]
  },
  {
   "cell_type": "code",
   "execution_count": 25,
   "metadata": {},
   "outputs": [],
   "source": [
    "def generate_dataset(data_func=lorenz96,\n",
    "                    dt = 0.01, \n",
    "                    total_steps = 1024 * 5, \n",
    "                    interval = (-1.0,1.0),\n",
    "                    trainset_size = 80, \n",
    "                    valset_size=16, \n",
    "                    testset_size = 16,\n",
    "                    save=False):\n",
    "    \n",
    "    np.random.seed(2)\n",
    "\n",
    "    #get device\n",
    "    device = torch.device('cpu')\n",
    "    #get right hand side of the governing equations for ODE\n",
    "    #get number of states\n",
    "    rhs_equation,num_states = data_func()\n",
    "    #set up time coordinates\n",
    "    t = torch.linspace(0, (total_steps)*dt, total_steps+1).to(device)\n",
    "\n",
    "    #generate three splits of the trajectory dataset\n",
    "    dataset = {}\n",
    "    for i,tag in enumerate(['train','val','test']):\n",
    "        #each split has the dimension of (split_size * t * num_states) \n",
    "        split_name = tag+'set'\n",
    "        split_size = eval(split_name+'_size')\n",
    "        dataset[split_name] = np.zeros((split_size, total_steps+1, num_states))\n",
    "\n",
    "        #generate trajectories for random initial conditions\n",
    "        for j in range(split_size):\n",
    "            x_init = torch.tensor(\n",
    "                        np.random.uniform(\n",
    "                            interval[0], \n",
    "                            interval[1], \n",
    "                            num_states)\n",
    "                                ).to(device).unsqueeze(0)\n",
    "\n",
    "            sol = odeint(\n",
    "                        rhs_equation, \n",
    "                        x_init, \n",
    "                        t, \n",
    "                        method='dopri5').to(device).squeeze().detach().numpy()\n",
    "\n",
    "            dataset[split_name][j, :, :] = sol\n",
    "            \n",
    "    \n",
    "    #check the range for every state in the training set\n",
    "    domain_range = []\n",
    "    temp_data = dataset['trainset'].reshape([-1,num_states])\n",
    "    for i in range(num_states):\n",
    "        domain_range.append(np.array([np.min(temp_data[:,i]), np.max(temp_data[:,i])]))\n",
    "    domain_range = np.row_stack(domain_range)\n",
    "\n",
    "    if save:\n",
    "        np.savez(f'./data/{data_func.__name__}_torch_{str(interval[0])}_{str(interval[1])}.npz', \n",
    "            train_data = dataset['trainset'],\n",
    "            val_data = dataset['valset'],\n",
    "            test_data = dataset['testset'], \n",
    "            range = domain_range,\n",
    "            num_states=num_states,\n",
    "            time_steps = t.detach().numpy(),\n",
    "            data_name = data_func.__name__)\n",
    "\n",
    "    return dataset"
   ]
  },
  {
   "cell_type": "code",
   "execution_count": 26,
   "metadata": {},
   "outputs": [
    {
     "data": {
      "text/plain": [
       "{'trainset': array([[[-1.28010196e-01, -9.48147536e-01],\n",
       "         [-1.27946207e-01, -9.38550343e-01],\n",
       "         [-1.27882250e-01, -9.29048806e-01],\n",
       "         ...,\n",
       "         [-9.90569555e-03,  1.09025661e-04],\n",
       "         [-9.90074288e-03,  1.08916698e-04],\n",
       "         [-9.89579458e-03,  1.08807884e-04]],\n",
       " \n",
       "        [[ 9.93249558e-02, -1.29355215e-01],\n",
       "         [ 9.92753057e-02, -1.27969995e-01],\n",
       "         [ 9.92256804e-02, -1.26598657e-01],\n",
       "         ...,\n",
       "         [ 7.68597194e-03,  6.56377704e-05],\n",
       "         [ 7.68212909e-03,  6.55721326e-05],\n",
       "         [ 7.67828963e-03,  6.55065864e-05]],\n",
       " \n",
       "        [[-1.59264396e-01, -3.39330358e-01],\n",
       "         [-1.59184784e-01, -3.35701704e-01],\n",
       "         [-1.59105211e-01, -3.32109407e-01],\n",
       "         ...,\n",
       "         [-1.23242106e-02,  1.68763130e-04],\n",
       "         [-1.23180488e-02,  1.68594401e-04],\n",
       "         [-1.23118923e-02,  1.68425903e-04]],\n",
       " \n",
       "        ...,\n",
       " \n",
       "        [[-8.95554545e-01, -8.68672668e-01],\n",
       "         [-8.95106880e-01, -8.52053014e-01],\n",
       "         [-8.94659438e-01, -8.35606700e-01],\n",
       "         ...,\n",
       "         [-6.92998759e-02,  5.33608059e-03],\n",
       "         [-6.92652272e-02,  5.33074604e-03],\n",
       "         [-6.92306090e-02,  5.32541885e-03]],\n",
       " \n",
       "        [[-9.12997628e-01, -2.09698483e-01],\n",
       "         [-9.12541243e-01, -1.99321994e-01],\n",
       "         [-9.12085087e-01, -1.89057038e-01],\n",
       "         ...,\n",
       "         [-7.06496579e-02,  5.54597111e-03],\n",
       "         [-7.06143344e-02,  5.54042677e-03],\n",
       "         [-7.05790420e-02,  5.53489009e-03]],\n",
       " \n",
       "        [[ 3.36854092e-01, -6.03945776e-01],\n",
       "         [ 3.36685707e-01, -5.96807929e-01],\n",
       "         [ 3.36517406e-01, -5.89742232e-01],\n",
       "         ...,\n",
       "         [ 2.60664712e-02,  7.54957316e-04],\n",
       "         [ 2.60534384e-02,  7.54202583e-04],\n",
       "         [ 2.60404172e-02,  7.53448887e-04]]]),\n",
       " 'valset': array([[[ 7.52532903e-01, -1.35221809e-01],\n",
       "         [ 7.52156731e-01, -1.28244314e-01],\n",
       "         [ 7.51780747e-01, -1.21341875e-01],\n",
       "         ...,\n",
       "         [ 5.82325633e-02,  3.76781332e-03],\n",
       "         [ 5.82034481e-02,  3.76404653e-03],\n",
       "         [ 5.81743586e-02,  3.76028494e-03]],\n",
       " \n",
       "        [[ 2.39282927e-01, -4.19146514e-01],\n",
       "         [ 2.39163316e-01, -4.14406512e-01],\n",
       "         [ 2.39043764e-01, -4.09714243e-01],\n",
       "         ...,\n",
       "         [ 1.85162113e-02,  3.80944896e-04],\n",
       "         [ 1.85069535e-02,  3.80564025e-04],\n",
       "         [ 1.84977039e-02,  3.80183680e-04]],\n",
       " \n",
       "        [[ 2.30509147e-01,  9.07319925e-01],\n",
       "         [ 2.30393921e-01,  8.98820373e-01],\n",
       "         [ 2.30278753e-01,  8.90404865e-01],\n",
       "         ...,\n",
       "         [ 1.78372779e-02,  3.53520593e-04],\n",
       "         [ 1.78283595e-02,  3.53167142e-04],\n",
       "         [ 1.78194491e-02,  3.52814179e-04]],\n",
       " \n",
       "        ...,\n",
       " \n",
       "        [[-1.10858116e-01,  4.31494169e-01],\n",
       "         [-1.10802701e-01,  4.27322952e-01],\n",
       "         [-1.10747314e-01,  4.23193116e-01],\n",
       "         ...,\n",
       "         [-8.57843194e-03,  8.17664457e-05],\n",
       "         [-8.57414288e-03,  8.16847325e-05],\n",
       "         [-8.56985760e-03,  8.16031319e-05]],\n",
       " \n",
       "        [[-9.83103273e-01, -9.49597153e-01],\n",
       "         [-9.82611844e-01, -9.30536562e-01],\n",
       "         [-9.82120661e-01, -9.11675233e-01],\n",
       "         ...,\n",
       "         [-7.60745787e-02,  6.43037917e-03],\n",
       "         [-7.60365428e-02,  6.42395064e-03],\n",
       "         [-7.59985404e-02,  6.41753099e-03]],\n",
       " \n",
       "        [[ 8.80900987e-01, -7.95724104e-01],\n",
       "         [ 8.80460647e-01, -7.80089187e-01],\n",
       "         [ 8.80020526e-01, -7.64617553e-01],\n",
       "         ...,\n",
       "         [ 6.81659530e-02,  5.16288646e-03],\n",
       "         [ 6.81318713e-02,  5.15772511e-03],\n",
       "         [ 6.80978196e-02,  5.15257089e-03]]]),\n",
       " 'testset': array([[[ 3.23935581e-01, -4.33482512e-01],\n",
       "         [ 3.23773654e-01, -4.28125699e-01],\n",
       "         [ 3.23611807e-01, -4.22823229e-01],\n",
       "         ...,\n",
       "         [ 2.50668099e-02,  6.98161002e-04],\n",
       "         [ 2.50542770e-02,  6.97463072e-04],\n",
       "         [ 2.50417550e-02,  6.96766108e-04]],\n",
       " \n",
       "        [[-5.98315312e-01, -2.23331636e-01],\n",
       "         [-5.98016230e-01, -2.17549260e-01],\n",
       "         [-5.97717296e-01, -2.11827977e-01],\n",
       "         ...,\n",
       "         [-4.62988850e-02,  2.38176298e-03],\n",
       "         [-4.62757364e-02,  2.37938186e-03],\n",
       "         [-4.62526082e-02,  2.37700404e-03]],\n",
       " \n",
       "        [[ 8.51803193e-01,  1.40548420e-01],\n",
       "         [ 8.51377398e-01,  1.46365854e-01],\n",
       "         [ 8.50951816e-01,  1.52118192e-01],\n",
       "         ...,\n",
       "         [ 6.59143051e-02,  4.82744051e-03],\n",
       "         [ 6.58813491e-02,  4.82261441e-03],\n",
       "         [ 6.58484222e-02,  4.81779497e-03]],\n",
       " \n",
       "        ...,\n",
       " \n",
       "        [[ 1.38281064e-01,  6.10263081e-01],\n",
       "         [ 1.38211941e-01,  6.04381030e-01],\n",
       "         [ 1.38142852e-01,  5.98557316e-01],\n",
       "         ...,\n",
       "         [ 1.07004767e-02,  1.27223182e-04],\n",
       "         [ 1.06951267e-02,  1.27095983e-04],\n",
       "         [ 1.06897814e-02,  1.26968958e-04]],\n",
       " \n",
       "        [[ 6.66322489e-01, -5.88412646e-01],\n",
       "         [ 6.65989412e-01, -5.78142323e-01],\n",
       "         [ 6.65656500e-01, -5.67978605e-01],\n",
       "         ...,\n",
       "         [ 5.15614220e-02,  2.95397890e-03],\n",
       "         [ 5.15356422e-02,  2.95102578e-03],\n",
       "         [ 5.15098851e-02,  2.94807673e-03]],\n",
       " \n",
       "        [[ 4.61360401e-01,  6.06828328e-01],\n",
       "         [ 4.61129779e-01,  6.02907152e-01],\n",
       "         [ 4.60899271e-01,  5.99022877e-01],\n",
       "         ...,\n",
       "         [ 3.57010287e-02,  1.41618168e-03],\n",
       "         [ 3.56831788e-02,  1.41476586e-03],\n",
       "         [ 3.56653447e-02,  1.41335200e-03]]])}"
      ]
     },
     "execution_count": 26,
     "metadata": {},
     "output_type": "execute_result"
    }
   ],
   "source": [
    "d = generate_dataset(data_func=hyperbolic,\n",
    "              dt = 1e-2, #lorenz\n",
    "              total_steps = 1024 * 5, \n",
    "              interval = (-1,1),\n",
    "              trainset_size = 80, \n",
    "              valset_size=16, \n",
    "              testset_size = 16,\n",
    "              save=False)\n",
    "d"
   ]
  },
  {
   "cell_type": "markdown",
   "metadata": {},
   "source": [
    "# Ben's Chaotic Data"
   ]
  },
  {
   "cell_type": "markdown",
   "metadata": {},
   "source": [
    "## Set dataset parameters\n",
    "\n",
    "Note that the sizes of trainset, valset, and testset refer to number of time steps rather than number of examples. So, while the ODE dataset varies the number of examples based on the split and maintains the number of timesteps, the chaotic dataset varies the number of timesteps based on the split and maintains the number of examples. This is to remain consistent with procedure outlined in https://arxiv.org/pdf/2409.15771. The specific values set here are also derived from the same procedure."
   ]
  },
  {
   "cell_type": "code",
   "execution_count": 32,
   "metadata": {},
   "outputs": [],
   "source": [
    "trajectories_per_system=80\n",
    "trainset_size=435\n",
    "valset_size=77\n",
    "testset_size=300\n",
    "n = trainset_size + valset_size + testset_size\n",
    "num_states = 4"
   ]
  },
  {
   "cell_type": "markdown",
   "metadata": {},
   "source": [
    "## Filter systems based on metadata"
   ]
  },
  {
   "cell_type": "code",
   "execution_count": 34,
   "metadata": {},
   "outputs": [
    {
     "name": "stdout",
     "output_type": "stream",
     "text": [
      "- ./data/dysts_DoublePendulum.npz\n",
      "- ./data/dysts_HenonHeiles.npz\n",
      "- ./data/dysts_HyperBao.npz\n",
      "- ./data/dysts_HyperCai.npz\n",
      "- ./data/dysts_HyperJha.npz\n",
      "- ./data/dysts_HyperLorenz.npz\n",
      "- ./data/dysts_HyperLu.npz\n",
      "- ./data/dysts_HyperPang.npz\n",
      "- ./data/dysts_HyperQi.npz\n",
      "- ./data/dysts_HyperRossler.npz\n",
      "- ./data/dysts_HyperWang.npz\n",
      "- ./data/dysts_HyperXu.npz\n",
      "- ./data/dysts_HyperYan.npz\n",
      "- ./data/dysts_HyperYangChen.npz\n",
      "- ./data/dysts_Lorenz96.npz\n",
      "- ./data/dysts_LorenzStenflo.npz\n",
      "- ./data/dysts_NuclearQuadrupole.npz\n",
      "- ./data/dysts_Qi.npz\n",
      "- ./data/dysts_SwingingAtwood.npz\n"
     ]
    }
   ],
   "source": [
    "import requests\n",
    "import simplejson as json\n",
    "import urllib.request, json \n",
    "\n",
    "metadata_url = \"https://raw.githubusercontent.com/williamgilpin/dysts/refs/heads/master/dysts/data/chaotic_attractors.json\"\n",
    "\n",
    "with urllib.request.urlopen(metadata_url) as url:\n",
    "    data = json.load(url)\n",
    "\n",
    "# we want autonomous systems and embedding dimension of 4\n",
    "target_systems = [key for key, value in data.items() \n",
    "                             if value.get('nonautonomous') == False and value.get('embedding_dimension') == num_states]\n",
    "\n",
    "# output as yaml list to easily paste into sweep config\n",
    "for target_system in target_systems:\n",
    "    print(f\"- ./data/dysts_{target_system}.npz\")"
   ]
  },
  {
   "cell_type": "markdown",
   "metadata": {},
   "source": [
    "## Generate dataset of autonomous systems"
   ]
  },
  {
   "cell_type": "code",
   "execution_count": 35,
   "metadata": {},
   "outputs": [
    {
     "name": "stderr",
     "output_type": "stream",
     "text": [
      "  1%|▏         | 1/80 [00:54<1:11:34, 54.36s/it]"
     ]
    },
    {
     "name": "stdout",
     "output_type": "stream",
     "text": [
      "[-0.70631448 -0.89522536 -7.78709797 -1.5646774 ]\n"
     ]
    },
    {
     "name": "stderr",
     "output_type": "stream",
     "text": [
      "  2%|▎         | 2/80 [01:50<1:11:54, 55.31s/it]"
     ]
    },
    {
     "name": "stdout",
     "output_type": "stream",
     "text": [
      "[ 0.05811695 -0.7048358   3.11340292  1.32117965]\n"
     ]
    },
    {
     "name": "stderr",
     "output_type": "stream",
     "text": [
      "  4%|▍         | 3/80 [02:44<1:10:21, 54.82s/it]"
     ]
    },
    {
     "name": "stdout",
     "output_type": "stream",
     "text": [
      "[0.47185796 0.38499964 9.31038362 2.39431135]\n"
     ]
    },
    {
     "name": "stderr",
     "output_type": "stream",
     "text": [
      "  5%|▌         | 4/80 [03:54<1:16:51, 60.67s/it]"
     ]
    },
    {
     "name": "stdout",
     "output_type": "stream",
     "text": [
      "[ 0.22738464 -0.01362329 -2.46964468 -0.64302695]\n"
     ]
    },
    {
     "name": "stderr",
     "output_type": "stream",
     "text": [
      "  6%|▋         | 5/80 [05:07<1:21:43, 65.37s/it]"
     ]
    },
    {
     "name": "stdout",
     "output_type": "stream",
     "text": [
      "[-0.98409615 -0.32448386 -7.69616052  0.17563592]\n"
     ]
    },
    {
     "name": "stderr",
     "output_type": "stream",
     "text": [
      "  8%|▊         | 6/80 [06:19<1:23:10, 67.43s/it]"
     ]
    },
    {
     "name": "stdout",
     "output_type": "stream",
     "text": [
      "[-0.66845397 -0.21942101 -0.19452212 -2.63893826]\n"
     ]
    },
    {
     "name": "stderr",
     "output_type": "stream",
     "text": [
      "  9%|▉         | 7/80 [07:31<1:24:04, 69.10s/it]"
     ]
    },
    {
     "name": "stdout",
     "output_type": "stream",
     "text": [
      "[0.88995694 0.55009392 2.72098151 1.08198866]\n"
     ]
    },
    {
     "name": "stderr",
     "output_type": "stream",
     "text": [
      " 10%|█         | 8/80 [08:42<1:23:35, 69.66s/it]"
     ]
    },
    {
     "name": "stdout",
     "output_type": "stream",
     "text": [
      "[-0.04410523 -0.95135104 -4.56637604  3.01738061]\n"
     ]
    },
    {
     "name": "stderr",
     "output_type": "stream",
     "text": [
      " 11%|█▏        | 9/80 [09:53<1:22:48, 69.98s/it]"
     ]
    },
    {
     "name": "stdout",
     "output_type": "stream",
     "text": [
      "[-0.36103845 -0.3931232  -1.52468963 -1.70769208]\n"
     ]
    },
    {
     "name": "stderr",
     "output_type": "stream",
     "text": [
      " 12%|█▎        | 10/80 [11:00<1:20:37, 69.10s/it]"
     ]
    },
    {
     "name": "stdout",
     "output_type": "stream",
     "text": [
      "[ 0.55774938 -0.56345189 -4.09454905  2.56427019]\n"
     ]
    },
    {
     "name": "stderr",
     "output_type": "stream",
     "text": [
      " 14%|█▍        | 11/80 [12:11<1:19:59, 69.55s/it]"
     ]
    },
    {
     "name": "stdout",
     "output_type": "stream",
     "text": [
      "[-0.19654231 -0.4472549   3.99059587  0.29899871]\n"
     ]
    },
    {
     "name": "stderr",
     "output_type": "stream",
     "text": [
      " 15%|█▌        | 12/80 [13:20<1:18:36, 69.35s/it]"
     ]
    },
    {
     "name": "stdout",
     "output_type": "stream",
     "text": [
      "[ 0.10615558 -0.83423566 -0.94068648 -1.00016201]\n"
     ]
    },
    {
     "name": "stderr",
     "output_type": "stream",
     "text": [
      " 16%|█▋        | 13/80 [14:31<1:18:08, 69.98s/it]"
     ]
    },
    {
     "name": "stdout",
     "output_type": "stream",
     "text": [
      "[-0.0892458   0.91295613 -1.82137372  0.2827146 ]\n"
     ]
    },
    {
     "name": "stderr",
     "output_type": "stream",
     "text": [
      " 18%|█▊        | 14/80 [15:46<1:18:37, 71.47s/it]"
     ]
    },
    {
     "name": "stdout",
     "output_type": "stream",
     "text": [
      "[ 0.97663944  0.87125664 -4.26887545 -2.97733157]\n"
     ]
    },
    {
     "name": "stderr",
     "output_type": "stream",
     "text": [
      " 19%|█▉        | 15/80 [17:01<1:18:41, 72.64s/it]"
     ]
    },
    {
     "name": "stdout",
     "output_type": "stream",
     "text": [
      "[-0.21307976  0.20604422 -9.80235718 -4.26204785]\n"
     ]
    },
    {
     "name": "stderr",
     "output_type": "stream",
     "text": [
      " 20%|██        | 16/80 [18:20<1:19:25, 74.47s/it]"
     ]
    },
    {
     "name": "stdout",
     "output_type": "stream",
     "text": [
      "[ 0.87104821 -0.83742107 -6.4721121   3.46097584]\n"
     ]
    },
    {
     "name": "stderr",
     "output_type": "stream",
     "text": [
      " 21%|██▏       | 17/80 [19:37<1:18:54, 75.16s/it]"
     ]
    },
    {
     "name": "stdout",
     "output_type": "stream",
     "text": [
      "[ 0.90028114 -0.99580207 -6.27587439  2.24127543]\n"
     ]
    },
    {
     "name": "stderr",
     "output_type": "stream",
     "text": [
      " 22%|██▎       | 18/80 [20:52<1:17:41, 75.18s/it]"
     ]
    },
    {
     "name": "stdout",
     "output_type": "stream",
     "text": [
      "[ 0.41349668 -0.78181542 -5.53112551  2.76209557]\n"
     ]
    },
    {
     "name": "stderr",
     "output_type": "stream",
     "text": [
      " 24%|██▍       | 19/80 [22:14<1:18:41, 77.40s/it]"
     ]
    },
    {
     "name": "stdout",
     "output_type": "stream",
     "text": [
      "[-0.83992504  0.99998903  1.69038673 -1.00594239]\n"
     ]
    },
    {
     "name": "stderr",
     "output_type": "stream",
     "text": [
      " 25%|██▌       | 20/80 [23:31<1:17:09, 77.17s/it]"
     ]
    },
    {
     "name": "stdout",
     "output_type": "stream",
     "text": [
      "[-0.97858945  0.97917134  3.17837238 -1.16004645]\n"
     ]
    },
    {
     "name": "stderr",
     "output_type": "stream",
     "text": [
      " 26%|██▋       | 21/80 [24:50<1:16:16, 77.57s/it]"
     ]
    },
    {
     "name": "stdout",
     "output_type": "stream",
     "text": [
      "[-0.1105786   0.97881111  3.89749028  2.72017616]\n"
     ]
    },
    {
     "name": "stderr",
     "output_type": "stream",
     "text": [
      " 28%|██▊       | 22/80 [26:09<1:15:34, 78.18s/it]"
     ]
    },
    {
     "name": "stdout",
     "output_type": "stream",
     "text": [
      "[-0.51902357 -0.67904018 -4.47580552 -1.10729617]\n"
     ]
    },
    {
     "name": "stderr",
     "output_type": "stream",
     "text": [
      " 29%|██▉       | 23/80 [27:30<1:15:05, 79.04s/it]"
     ]
    },
    {
     "name": "stdout",
     "output_type": "stream",
     "text": [
      "[-0.94482991 -0.84192633  2.25381476  2.06555767]\n"
     ]
    },
    {
     "name": "stderr",
     "output_type": "stream",
     "text": [
      " 30%|███       | 24/80 [28:45<1:12:26, 77.62s/it]"
     ]
    },
    {
     "name": "stdout",
     "output_type": "stream",
     "text": [
      "[-0.99941145 -0.97848339 -3.93254102 -2.10767196]\n"
     ]
    },
    {
     "name": "stderr",
     "output_type": "stream",
     "text": [
      " 31%|███▏      | 25/80 [30:03<1:11:22, 77.86s/it]"
     ]
    },
    {
     "name": "stdout",
     "output_type": "stream",
     "text": [
      "[ 0.31810744 -0.93711178  6.68551107 -2.78207977]\n"
     ]
    },
    {
     "name": "stderr",
     "output_type": "stream",
     "text": [
      " 32%|███▎      | 26/80 [31:17<1:09:06, 76.78s/it]"
     ]
    },
    {
     "name": "stdout",
     "output_type": "stream",
     "text": [
      "[0.70742253 0.43549933 8.08039078 4.58618238]\n"
     ]
    },
    {
     "name": "stderr",
     "output_type": "stream",
     "text": [
      " 34%|███▍      | 27/80 [32:32<1:07:23, 76.30s/it]"
     ]
    },
    {
     "name": "stdout",
     "output_type": "stream",
     "text": [
      "[ 0.30354515  0.4442124  -7.40722233 -4.93920985]\n"
     ]
    },
    {
     "name": "stderr",
     "output_type": "stream",
     "text": [
      " 35%|███▌      | 28/80 [33:49<1:06:18, 76.52s/it]"
     ]
    },
    {
     "name": "stdout",
     "output_type": "stream",
     "text": [
      "[-0.54659041  0.27542915 -8.03184322  0.48513362]\n"
     ]
    },
    {
     "name": "stderr",
     "output_type": "stream",
     "text": [
      " 36%|███▋      | 29/80 [35:05<1:04:50, 76.28s/it]"
     ]
    },
    {
     "name": "stdout",
     "output_type": "stream",
     "text": [
      "[-0.75735158 -0.98985497 -0.51388178  0.81438855]\n"
     ]
    },
    {
     "name": "stderr",
     "output_type": "stream",
     "text": [
      " 38%|███▊      | 30/80 [36:11<1:01:01, 73.24s/it]"
     ]
    },
    {
     "name": "stdout",
     "output_type": "stream",
     "text": [
      "[ 0.14651264  0.9726166   7.50593932 -0.96174152]\n"
     ]
    },
    {
     "name": "stderr",
     "output_type": "stream",
     "text": [
      " 39%|███▉      | 31/80 [37:05<55:04, 67.44s/it]  "
     ]
    },
    {
     "name": "stdout",
     "output_type": "stream",
     "text": [
      "[-0.33312011 -0.09280722  3.975804   -0.30138784]\n"
     ]
    },
    {
     "name": "stderr",
     "output_type": "stream",
     "text": [
      " 40%|████      | 32/80 [38:00<50:53, 63.62s/it]"
     ]
    },
    {
     "name": "stdout",
     "output_type": "stream",
     "text": [
      "[ 0.53029373  0.04531418  4.85164999 -0.39153258]\n"
     ]
    },
    {
     "name": "stderr",
     "output_type": "stream",
     "text": [
      " 41%|████▏     | 33/80 [38:55<47:44, 60.94s/it]"
     ]
    },
    {
     "name": "stdout",
     "output_type": "stream",
     "text": [
      "[-0.74648102  0.18807247  2.71528873 -3.03735265]\n"
     ]
    },
    {
     "name": "stderr",
     "output_type": "stream",
     "text": [
      " 42%|████▎     | 34/80 [39:48<44:55, 58.61s/it]"
     ]
    },
    {
     "name": "stdout",
     "output_type": "stream",
     "text": [
      "[0.8734103  0.64144896 3.26996285 1.28817   ]\n"
     ]
    },
    {
     "name": "stderr",
     "output_type": "stream",
     "text": [
      " 44%|████▍     | 35/80 [40:42<42:59, 57.31s/it]"
     ]
    },
    {
     "name": "stdout",
     "output_type": "stream",
     "text": [
      "[-0.06059474 -0.6161857  -5.47672448  0.60592422]\n"
     ]
    },
    {
     "name": "stderr",
     "output_type": "stream",
     "text": [
      " 45%|████▌     | 36/80 [41:37<41:31, 56.63s/it]"
     ]
    },
    {
     "name": "stdout",
     "output_type": "stream",
     "text": [
      "[ 0.99227079 -0.96592919  0.48412863  1.34813558]\n"
     ]
    },
    {
     "name": "stderr",
     "output_type": "stream",
     "text": [
      " 46%|████▋     | 37/80 [42:30<39:41, 55.39s/it]"
     ]
    },
    {
     "name": "stdout",
     "output_type": "stream",
     "text": [
      "[-0.15281249 -0.95154814  7.24134211 -0.54042517]\n"
     ]
    },
    {
     "name": "stderr",
     "output_type": "stream",
     "text": [
      " 48%|████▊     | 38/80 [43:22<38:13, 54.60s/it]"
     ]
    },
    {
     "name": "stdout",
     "output_type": "stream",
     "text": [
      "[ 0.63602339 -0.7092981  -2.46558568 -4.48339146]\n"
     ]
    },
    {
     "name": "stderr",
     "output_type": "stream",
     "text": [
      " 49%|████▉     | 39/80 [44:16<37:08, 54.34s/it]"
     ]
    },
    {
     "name": "stdout",
     "output_type": "stream",
     "text": [
      "[0.71569072 0.92208827 2.04797136 1.67746844]\n"
     ]
    },
    {
     "name": "stderr",
     "output_type": "stream",
     "text": [
      " 50%|█████     | 40/80 [45:11<36:18, 54.47s/it]"
     ]
    },
    {
     "name": "stdout",
     "output_type": "stream",
     "text": [
      "[ 0.8209866  -0.68955269 -3.04366809  2.21940699]\n"
     ]
    },
    {
     "name": "stderr",
     "output_type": "stream",
     "text": [
      " 51%|█████▏    | 41/80 [46:04<35:03, 53.93s/it]"
     ]
    },
    {
     "name": "stdout",
     "output_type": "stream",
     "text": [
      "[-0.99039562  0.9989804   4.19786265 -2.70981261]\n"
     ]
    },
    {
     "name": "stderr",
     "output_type": "stream",
     "text": [
      " 52%|█████▎    | 42/80 [46:58<34:11, 53.99s/it]"
     ]
    },
    {
     "name": "stdout",
     "output_type": "stream",
     "text": [
      "[-0.66602744 -0.97978033 -0.70701247  0.74237482]\n"
     ]
    },
    {
     "name": "stderr",
     "output_type": "stream",
     "text": [
      " 54%|█████▍    | 43/80 [47:52<33:17, 54.00s/it]"
     ]
    },
    {
     "name": "stdout",
     "output_type": "stream",
     "text": [
      "[-0.02325276 -0.72372942 -7.26425581  0.73719137]\n"
     ]
    },
    {
     "name": "stderr",
     "output_type": "stream",
     "text": [
      " 55%|█████▌    | 44/80 [48:46<32:30, 54.17s/it]"
     ]
    },
    {
     "name": "stdout",
     "output_type": "stream",
     "text": [
      "[-0.72006895 -0.24450624 -9.57287133 -3.14037097]\n"
     ]
    },
    {
     "name": "stderr",
     "output_type": "stream",
     "text": [
      " 56%|█████▋    | 45/80 [49:39<31:24, 53.85s/it]"
     ]
    },
    {
     "name": "stdout",
     "output_type": "stream",
     "text": [
      "[-0.99814497  0.99718554 -1.36231528 -1.15058514]\n"
     ]
    },
    {
     "name": "stderr",
     "output_type": "stream",
     "text": [
      " 57%|█████▊    | 46/80 [50:34<30:34, 53.95s/it]"
     ]
    },
    {
     "name": "stdout",
     "output_type": "stream",
     "text": [
      "[ 0.5461521  -0.56665466 -4.3811033   0.89590001]\n"
     ]
    },
    {
     "name": "stderr",
     "output_type": "stream",
     "text": [
      " 59%|█████▉    | 47/80 [51:28<29:48, 54.21s/it]"
     ]
    },
    {
     "name": "stdout",
     "output_type": "stream",
     "text": [
      "[-0.01669849 -0.53259627 -1.78682031  2.13054672]\n"
     ]
    },
    {
     "name": "stderr",
     "output_type": "stream",
     "text": [
      " 60%|██████    | 48/80 [52:23<28:58, 54.33s/it]"
     ]
    },
    {
     "name": "stdout",
     "output_type": "stream",
     "text": [
      "[ 0.33070234  0.92143752 -6.83252902  0.96519297]\n"
     ]
    },
    {
     "name": "stderr",
     "output_type": "stream",
     "text": [
      " 61%|██████▏   | 49/80 [53:17<27:59, 54.19s/it]"
     ]
    },
    {
     "name": "stdout",
     "output_type": "stream",
     "text": [
      "[ 0.88789956 -0.44166323  1.88845554 -1.47679933]\n"
     ]
    },
    {
     "name": "stderr",
     "output_type": "stream",
     "text": [
      " 62%|██████▎   | 50/80 [54:10<26:57, 53.93s/it]"
     ]
    },
    {
     "name": "stdout",
     "output_type": "stream",
     "text": [
      "[-0.89071658  0.81952684 -7.51774777  2.79629686]\n"
     ]
    },
    {
     "name": "stderr",
     "output_type": "stream",
     "text": [
      " 64%|██████▍   | 51/80 [55:04<26:02, 53.88s/it]"
     ]
    },
    {
     "name": "stdout",
     "output_type": "stream",
     "text": [
      "[ 0.986041   -0.88684637 -5.91237196  3.39785852]\n"
     ]
    },
    {
     "name": "stderr",
     "output_type": "stream",
     "text": [
      " 65%|██████▌   | 52/80 [55:56<24:51, 53.26s/it]"
     ]
    },
    {
     "name": "stdout",
     "output_type": "stream",
     "text": [
      "[-0.14833688 -0.96928714 -7.1630752   1.24197037]\n"
     ]
    },
    {
     "name": "stderr",
     "output_type": "stream",
     "text": [
      " 66%|██████▋   | 53/80 [56:49<23:57, 53.24s/it]"
     ]
    },
    {
     "name": "stdout",
     "output_type": "stream",
     "text": [
      "[-0.15728398 -0.70754428  1.97547026 -1.87791609]\n"
     ]
    },
    {
     "name": "stderr",
     "output_type": "stream",
     "text": [
      " 68%|██████▊   | 54/80 [57:40<22:50, 52.73s/it]"
     ]
    },
    {
     "name": "stdout",
     "output_type": "stream",
     "text": [
      "[-0.24785564  0.7429967   5.77770234  4.53093918]\n"
     ]
    },
    {
     "name": "stderr",
     "output_type": "stream",
     "text": [
      " 69%|██████▉   | 55/80 [58:34<22:02, 52.92s/it]"
     ]
    },
    {
     "name": "stdout",
     "output_type": "stream",
     "text": [
      "[-0.63084293 -0.74288504 -5.28017319 -0.61610374]\n"
     ]
    },
    {
     "name": "stderr",
     "output_type": "stream",
     "text": [
      " 70%|███████   | 56/80 [59:28<21:15, 53.14s/it]"
     ]
    },
    {
     "name": "stdout",
     "output_type": "stream",
     "text": [
      "[-0.77823586  0.94778758  5.28866599 -2.98338039]\n"
     ]
    },
    {
     "name": "stderr",
     "output_type": "stream",
     "text": [
      " 71%|███████▏  | 57/80 [1:00:21<20:27, 53.38s/it]"
     ]
    },
    {
     "name": "stdout",
     "output_type": "stream",
     "text": [
      "[-0.95422916  0.14414526 -0.48229669  3.5144726 ]\n"
     ]
    },
    {
     "name": "stderr",
     "output_type": "stream",
     "text": [
      " 72%|███████▎  | 58/80 [1:01:14<19:30, 53.23s/it]"
     ]
    },
    {
     "name": "stdout",
     "output_type": "stream",
     "text": [
      "[-0.69883464 -0.99448874  4.97651616 -1.05359381]\n"
     ]
    },
    {
     "name": "stderr",
     "output_type": "stream",
     "text": [
      " 74%|███████▍  | 59/80 [1:02:08<18:40, 53.36s/it]"
     ]
    },
    {
     "name": "stdout",
     "output_type": "stream",
     "text": [
      "[ 0.30037103 -0.98194956 -3.38647197 -2.53206257]\n"
     ]
    },
    {
     "name": "stderr",
     "output_type": "stream",
     "text": [
      " 75%|███████▌  | 60/80 [1:03:01<17:43, 53.17s/it]"
     ]
    },
    {
     "name": "stdout",
     "output_type": "stream",
     "text": [
      "[ 0.98537114 -0.18902348  0.324582   -3.73748386]\n"
     ]
    },
    {
     "name": "stderr",
     "output_type": "stream",
     "text": [
      " 76%|███████▋  | 61/80 [1:03:55<16:57, 53.57s/it]"
     ]
    },
    {
     "name": "stdout",
     "output_type": "stream",
     "text": [
      "[ 0.9643515  -0.97904882  1.92183741 -1.23004508]\n"
     ]
    },
    {
     "name": "stderr",
     "output_type": "stream",
     "text": [
      " 78%|███████▊  | 62/80 [1:04:48<15:59, 53.33s/it]"
     ]
    },
    {
     "name": "stdout",
     "output_type": "stream",
     "text": [
      "[ 0.99873925  0.20978652 -0.32704188 -3.90566721]\n"
     ]
    },
    {
     "name": "stderr",
     "output_type": "stream",
     "text": [
      " 79%|███████▉  | 63/80 [1:05:41<15:07, 53.35s/it]"
     ]
    },
    {
     "name": "stdout",
     "output_type": "stream",
     "text": [
      "[0.83924707 0.98349884 3.36447522 0.97196132]\n"
     ]
    },
    {
     "name": "stderr",
     "output_type": "stream",
     "text": [
      " 80%|████████  | 64/80 [1:06:34<14:10, 53.14s/it]"
     ]
    },
    {
     "name": "stdout",
     "output_type": "stream",
     "text": [
      "[ 0.97604909 -0.9506548   0.71899923  0.54050454]\n"
     ]
    },
    {
     "name": "stderr",
     "output_type": "stream",
     "text": [
      " 81%|████████▏ | 65/80 [1:07:27<13:16, 53.12s/it]"
     ]
    },
    {
     "name": "stdout",
     "output_type": "stream",
     "text": [
      "[0.64226519 0.97241652 1.35583817 0.99470317]\n"
     ]
    },
    {
     "name": "stderr",
     "output_type": "stream",
     "text": [
      " 82%|████████▎ | 66/80 [1:08:21<12:26, 53.31s/it]"
     ]
    },
    {
     "name": "stdout",
     "output_type": "stream",
     "text": [
      "[ 0.89710437 -0.51892733  1.45885622  4.24448296]\n"
     ]
    },
    {
     "name": "stderr",
     "output_type": "stream",
     "text": [
      " 84%|████████▍ | 67/80 [1:09:15<11:34, 53.41s/it]"
     ]
    },
    {
     "name": "stdout",
     "output_type": "stream",
     "text": [
      "[-0.24681319  0.32811129 -4.54981375  0.98712823]\n"
     ]
    },
    {
     "name": "stderr",
     "output_type": "stream",
     "text": [
      " 85%|████████▌ | 68/80 [1:10:08<10:40, 53.39s/it]"
     ]
    },
    {
     "name": "stdout",
     "output_type": "stream",
     "text": [
      "[-0.75332501 -0.45240835  4.98794276 -2.02167406]\n"
     ]
    },
    {
     "name": "stderr",
     "output_type": "stream",
     "text": [
      " 86%|████████▋ | 69/80 [1:11:01<09:47, 53.39s/it]"
     ]
    },
    {
     "name": "stdout",
     "output_type": "stream",
     "text": [
      "[-0.80670793  0.62358702 -2.95501107  2.14138257]\n"
     ]
    },
    {
     "name": "stderr",
     "output_type": "stream",
     "text": [
      " 88%|████████▊ | 70/80 [1:11:53<08:49, 52.91s/it]"
     ]
    },
    {
     "name": "stdout",
     "output_type": "stream",
     "text": [
      "[ 0.98071691 -0.14100201  7.31223584 -1.89107009]\n"
     ]
    },
    {
     "name": "stderr",
     "output_type": "stream",
     "text": [
      " 89%|████████▉ | 71/80 [1:12:46<07:56, 52.94s/it]"
     ]
    },
    {
     "name": "stdout",
     "output_type": "stream",
     "text": [
      "[-0.94679335 -0.9995302   0.64355316  1.39270402]\n"
     ]
    },
    {
     "name": "stderr",
     "output_type": "stream",
     "text": [
      " 90%|█████████ | 72/80 [1:13:41<07:07, 53.40s/it]"
     ]
    },
    {
     "name": "stdout",
     "output_type": "stream",
     "text": [
      "[ 0.862855    0.11689279 -1.85693268  0.96546269]\n"
     ]
    },
    {
     "name": "stderr",
     "output_type": "stream",
     "text": [
      " 91%|█████████▏| 73/80 [1:14:34<06:13, 53.32s/it]"
     ]
    },
    {
     "name": "stdout",
     "output_type": "stream",
     "text": [
      "[-0.2370333  -0.26940108  3.87043128  0.00440726]\n"
     ]
    },
    {
     "name": "stderr",
     "output_type": "stream",
     "text": [
      " 92%|█████████▎| 74/80 [1:15:27<05:20, 53.37s/it]"
     ]
    },
    {
     "name": "stdout",
     "output_type": "stream",
     "text": [
      "[-0.22013962 -0.2028336   2.71271445  0.66954083]\n"
     ]
    },
    {
     "name": "stderr",
     "output_type": "stream",
     "text": [
      " 94%|█████████▍| 75/80 [1:16:21<04:27, 53.51s/it]"
     ]
    },
    {
     "name": "stdout",
     "output_type": "stream",
     "text": [
      "[ 0.99777108  0.28575698 -7.74615922 -0.94696176]\n"
     ]
    },
    {
     "name": "stderr",
     "output_type": "stream",
     "text": [
      " 95%|█████████▌| 76/80 [1:17:14<03:33, 53.29s/it]"
     ]
    },
    {
     "name": "stdout",
     "output_type": "stream",
     "text": [
      "[ 0.02418322 -0.8048786  -3.1274721   0.62382523]\n"
     ]
    },
    {
     "name": "stderr",
     "output_type": "stream",
     "text": [
      " 96%|█████████▋| 77/80 [1:18:07<02:40, 53.35s/it]"
     ]
    },
    {
     "name": "stdout",
     "output_type": "stream",
     "text": [
      "[ 0.99507997  0.97018724 -1.81441573  1.24829243]\n"
     ]
    },
    {
     "name": "stderr",
     "output_type": "stream",
     "text": [
      " 98%|█████████▊| 78/80 [1:19:01<01:46, 53.36s/it]"
     ]
    },
    {
     "name": "stdout",
     "output_type": "stream",
     "text": [
      "[0.0306382  0.95667499 3.48328098 2.85286692]\n"
     ]
    },
    {
     "name": "stderr",
     "output_type": "stream",
     "text": [
      " 99%|█████████▉| 79/80 [1:19:54<00:53, 53.40s/it]"
     ]
    },
    {
     "name": "stdout",
     "output_type": "stream",
     "text": [
      "[-0.7096887   0.74695622  4.49927189 -1.11043046]\n"
     ]
    },
    {
     "name": "stderr",
     "output_type": "stream",
     "text": [
      "100%|██████████| 80/80 [1:20:47<00:00, 60.59s/it]"
     ]
    },
    {
     "name": "stdout",
     "output_type": "stream",
     "text": [
      "[ 0.93855803 -0.95855043  0.66918391 -0.61152917]\n"
     ]
    },
    {
     "name": "stderr",
     "output_type": "stream",
     "text": [
      "\n"
     ]
    }
   ],
   "source": [
    "from dysts.systems import make_trajectory_ensemble\n",
    "from dysts.sampling import GaussianInitialConditionSampler\n",
    "import numpy as np\n",
    "import warnings\n",
    "from tqdm import trange\n",
    "\n",
    "ensembles = []\n",
    "for t in trange(trajectories_per_system):\n",
    "    # suppress warnings about initial conditions (kind of dangerous, be sure to comment out if you're running into any issues)\n",
    "    with warnings.catch_warnings():\n",
    "        warnings.simplefilter(\"ignore\")\n",
    "\n",
    "        # create sampler with different seed for different initial conditions\n",
    "        transform = GaussianInitialConditionSampler(random_seed=t)\n",
    "\n",
    "        # returns dict with system names as keys and values with data (times, states) because we set return_times=True\n",
    "        ensemble = make_trajectory_ensemble(n, return_times=True, timescale=\"Lyapunov\", pts_per_period=30, resample=True, subset=target_systems, ic_transform=transform, use_multiprocessing=True)  \n",
    "\n",
    "        # print the last point of the first target system to ensure they're different\n",
    "        print(ensemble[target_systems[0]][1][-1])\n",
    "\n",
    "        ensembles.append(ensemble)"
   ]
  },
  {
   "cell_type": "markdown",
   "metadata": {},
   "source": [
    "saving the computed ensembles in case the notebook state is lost"
   ]
  },
  {
   "cell_type": "code",
   "execution_count": 36,
   "metadata": {},
   "outputs": [],
   "source": [
    "import pickle\n",
    "import numpy as np\n",
    "import sys\n",
    "\n",
    "# for easy loading\n",
    "with open(\"./data/ensembles.pkl\", \"wb\") as f:\n",
    "    pickle.dump(ensembles, f)\n",
    "\n",
    "# for human readability\n",
    "with open(\"./data/ensembles.dat\", \"w\") as f:\n",
    "    np.set_printoptions(threshold=sys.maxsize)\n",
    "    print(ensembles, file=f)"
   ]
  },
  {
   "cell_type": "markdown",
   "metadata": {},
   "source": [
    "loading the computed ensembles in case the notebook state is lost"
   ]
  },
  {
   "cell_type": "code",
   "execution_count": 2,
   "metadata": {},
   "outputs": [],
   "source": [
    "import pickle\n",
    "\n",
    "with open(\"./data/ensembles.pkl\", \"rb\") as f:\n",
    "    ensembles = pickle.load(f)"
   ]
  },
  {
   "cell_type": "markdown",
   "metadata": {},
   "source": [
    "## Wrangle dataset into correct format"
   ]
  },
  {
   "cell_type": "code",
   "execution_count": 47,
   "metadata": {},
   "outputs": [
    {
     "name": "stderr",
     "output_type": "stream",
     "text": [
      "/tmp/ipykernel_24727/1604947555.py:33: DeprecationWarning: `row_stack` alias is deprecated. Use `np.vstack` directly.\n",
      "  domain_range = np.row_stack(domain_range)\n"
     ]
    }
   ],
   "source": [
    "import numpy as np\n",
    "import torch\n",
    "import sys\n",
    "\n",
    "for target_system in target_systems:\n",
    "    dataset = {\"trainset\": [], \"valset\": [], \"testset\": []}\n",
    "\n",
    "    # get timesteps from first trajectory of target system\n",
    "    first_ensemble = ensembles[0]\n",
    "    first_trajectory = first_ensemble[target_system]\n",
    "    time_steps = first_trajectory[0]\n",
    "\n",
    "    # make the split\n",
    "    target_trajectories = [ensemble[target_system] for ensemble in ensembles]\n",
    "    for trajectory in target_trajectories:\n",
    "        states = trajectory[1]\n",
    "        dataset[\"trainset\"].append(states[:trainset_size])\n",
    "        dataset[\"valset\"].append(states[trainset_size:trainset_size+valset_size])\n",
    "        dataset[\"testset\"].append(states[trainset_size+valset_size:])\n",
    "\n",
    "    # Convert lists of arrays to np arrays\n",
    "    dataset[\"trainset\"] = np.array(dataset[\"trainset\"])\n",
    "    dataset[\"valset\"] = np.array(dataset[\"valset\"])\n",
    "    dataset[\"testset\"] = np.array(dataset[\"testset\"])\n",
    "\n",
    "    # check the range for every state in the training set\n",
    "    domain_range = []\n",
    "    temp_data = dataset[\"trainset\"].reshape([-1, num_states])\n",
    "    for i in range(num_states):\n",
    "        domain_range.append(\n",
    "            np.array([np.min(temp_data[:, i]), np.max(temp_data[:, i])])\n",
    "        )\n",
    "    domain_range = np.row_stack(domain_range)\n",
    "\n",
    "    # save the dataset\n",
    "    data_func_name = f\"dysts_{target_system}\"\n",
    "    np.savez(\n",
    "        f\"./data/{data_func_name}.npz\",\n",
    "        train_data=dataset[\"trainset\"],\n",
    "        val_data=dataset[\"valset\"],\n",
    "        test_data=dataset[\"testset\"],\n",
    "        range=domain_range,\n",
    "        num_states=num_states,\n",
    "        train_time_steps=time_steps[:trainset_size],\n",
    "        val_time_steps=time_steps[trainset_size:trainset_size+valset_size],\n",
    "        test_time_steps=time_steps[trainset_size+valset_size:],\n",
    "        time_steps=time_steps,  # this shouldn't be used in the train script\n",
    "        data_name=data_func_name,\n",
    "    )"
   ]
  },
  {
   "cell_type": "markdown",
   "metadata": {},
   "source": [
    "Sanity check the shape of one of the saved datasets"
   ]
  },
  {
   "cell_type": "code",
   "execution_count": 48,
   "metadata": {},
   "outputs": [
    {
     "name": "stdout",
     "output_type": "stream",
     "text": [
      "torch.Size([80, 435, 4])\n"
     ]
    }
   ],
   "source": [
    "import numpy as np\n",
    "import torch\n",
    "\n",
    "data = np.load(\"./data/dysts_DoublePendulum.npz\")\n",
    "train_data = torch.tensor(data[\"train_data\"][:, :, :])\n",
    "print(train_data.shape)"
   ]
  },
  {
   "cell_type": "markdown",
   "metadata": {},
   "source": [
    "# Archive"
   ]
  },
  {
   "cell_type": "markdown",
   "metadata": {},
   "source": [
    "## Compute trajectory"
   ]
  },
  {
   "cell_type": "code",
   "execution_count": null,
   "metadata": {},
   "outputs": [
    {
     "data": {
      "text/plain": [
       "[<matplotlib.lines.Line2D at 0x7fc907f95600>]"
      ]
     },
     "metadata": {},
     "output_type": "display_data"
    },
    {
     "data": {
      "image/png": "[encoded data removed]",
      "text/plain": [
       "<Figure size 432x288 with 1 Axes>"
      ]
     },
     "metadata": {},
     "output_type": "display_data"
    }
   ],
   "source": [
    "from dysts.flows import Lorenz\n",
    "from matplotlib import pyplot as plt\n",
    "\n",
    "model = Lorenz()\n",
    "sol = model.make_trajectory(1000)\n",
    "plt.plot(sol[:, 0], sol[:, 1])"
   ]
  },
  {
   "cell_type": "markdown",
   "metadata": {},
   "source": [
    "## Explore pre-computed multivariate data"
   ]
  },
  {
   "cell_type": "code",
   "execution_count": null,
   "metadata": {},
   "outputs": [
    {
     "data": {
      "text/html": [
       "<div>\n",
       "<style scoped>\n",
       "    .dataframe tbody tr th:only-of-type {\n",
       "        vertical-align: middle;\n",
       "    }\n",
       "\n",
       "    .dataframe tbody tr th {\n",
       "        vertical-align: top;\n",
       "    }\n",
       "\n",
       "    .dataframe thead th {\n",
       "        text-align: right;\n",
       "    }\n",
       "</style>\n",
       "<table border=\"1\" class=\"dataframe\">\n",
       "  <thead>\n",
       "    <tr style=\"text-align: right;\">\n",
       "      <th></th>\n",
       "      <th>id</th>\n",
       "      <th>time</th>\n",
       "      <th>values_0</th>\n",
       "      <th>values_1</th>\n",
       "      <th>values_2</th>\n",
       "      <th>values_3</th>\n",
       "      <th>values_4</th>\n",
       "      <th>values_5</th>\n",
       "      <th>values_6</th>\n",
       "      <th>values_7</th>\n",
       "      <th>values_8</th>\n",
       "      <th>values_9</th>\n",
       "    </tr>\n",
       "  </thead>\n",
       "  <tbody>\n",
       "    <tr>\n",
       "      <th>Aizawa</th>\n",
       "      <td>0.0</td>\n",
       "      <td>0.000000</td>\n",
       "      <td>-0.791445</td>\n",
       "      <td>-2.195360</td>\n",
       "      <td>0.564000</td>\n",
       "      <td>0.0</td>\n",
       "      <td>0.0</td>\n",
       "      <td>0.0</td>\n",
       "      <td>0.0</td>\n",
       "      <td>0.0</td>\n",
       "      <td>0.0</td>\n",
       "      <td>0.0</td>\n",
       "    </tr>\n",
       "    <tr>\n",
       "      <th>Aizawa</th>\n",
       "      <td>0.0</td>\n",
       "      <td>0.025859</td>\n",
       "      <td>-0.592175</td>\n",
       "      <td>-2.274252</td>\n",
       "      <td>0.520937</td>\n",
       "      <td>0.0</td>\n",
       "      <td>0.0</td>\n",
       "      <td>0.0</td>\n",
       "      <td>0.0</td>\n",
       "      <td>0.0</td>\n",
       "      <td>0.0</td>\n",
       "      <td>0.0</td>\n",
       "    </tr>\n",
       "    <tr>\n",
       "      <th>Aizawa</th>\n",
       "      <td>0.0</td>\n",
       "      <td>0.051717</td>\n",
       "      <td>-0.384373</td>\n",
       "      <td>-2.333496</td>\n",
       "      <td>0.477200</td>\n",
       "      <td>0.0</td>\n",
       "      <td>0.0</td>\n",
       "      <td>0.0</td>\n",
       "      <td>0.0</td>\n",
       "      <td>0.0</td>\n",
       "      <td>0.0</td>\n",
       "      <td>0.0</td>\n",
       "    </tr>\n",
       "    <tr>\n",
       "      <th>Aizawa</th>\n",
       "      <td>0.0</td>\n",
       "      <td>0.077576</td>\n",
       "      <td>-0.170204</td>\n",
       "      <td>-2.372270</td>\n",
       "      <td>0.432803</td>\n",
       "      <td>0.0</td>\n",
       "      <td>0.0</td>\n",
       "      <td>0.0</td>\n",
       "      <td>0.0</td>\n",
       "      <td>0.0</td>\n",
       "      <td>0.0</td>\n",
       "      <td>0.0</td>\n",
       "    </tr>\n",
       "    <tr>\n",
       "      <th>Aizawa</th>\n",
       "      <td>0.0</td>\n",
       "      <td>0.103434</td>\n",
       "      <td>0.048135</td>\n",
       "      <td>-2.389950</td>\n",
       "      <td>0.387774</td>\n",
       "      <td>0.0</td>\n",
       "      <td>0.0</td>\n",
       "      <td>0.0</td>\n",
       "      <td>0.0</td>\n",
       "      <td>0.0</td>\n",
       "      <td>0.0</td>\n",
       "      <td>0.0</td>\n",
       "    </tr>\n",
       "    <tr>\n",
       "      <th>...</th>\n",
       "      <td>...</td>\n",
       "      <td>...</td>\n",
       "      <td>...</td>\n",
       "      <td>...</td>\n",
       "      <td>...</td>\n",
       "      <td>...</td>\n",
       "      <td>...</td>\n",
       "      <td>...</td>\n",
       "      <td>...</td>\n",
       "      <td>...</td>\n",
       "      <td>...</td>\n",
       "      <td>...</td>\n",
       "    </tr>\n",
       "    <tr>\n",
       "      <th>ZhouChen</th>\n",
       "      <td>132.0</td>\n",
       "      <td>8.715304</td>\n",
       "      <td>1.218368</td>\n",
       "      <td>-0.302109</td>\n",
       "      <td>0.177545</td>\n",
       "      <td>0.0</td>\n",
       "      <td>0.0</td>\n",
       "      <td>0.0</td>\n",
       "      <td>0.0</td>\n",
       "      <td>0.0</td>\n",
       "      <td>0.0</td>\n",
       "      <td>0.0</td>\n",
       "    </tr>\n",
       "    <tr>\n",
       "      <th>ZhouChen</th>\n",
       "      <td>132.0</td>\n",
       "      <td>8.724063</td>\n",
       "      <td>1.253220</td>\n",
       "      <td>-0.288478</td>\n",
       "      <td>0.156669</td>\n",
       "      <td>0.0</td>\n",
       "      <td>0.0</td>\n",
       "      <td>0.0</td>\n",
       "      <td>0.0</td>\n",
       "      <td>0.0</td>\n",
       "      <td>0.0</td>\n",
       "      <td>0.0</td>\n",
       "    </tr>\n",
       "    <tr>\n",
       "      <th>ZhouChen</th>\n",
       "      <td>132.0</td>\n",
       "      <td>8.732822</td>\n",
       "      <td>1.288620</td>\n",
       "      <td>-0.273386</td>\n",
       "      <td>0.133433</td>\n",
       "      <td>0.0</td>\n",
       "      <td>0.0</td>\n",
       "      <td>0.0</td>\n",
       "      <td>0.0</td>\n",
       "      <td>0.0</td>\n",
       "      <td>0.0</td>\n",
       "      <td>0.0</td>\n",
       "    </tr>\n",
       "    <tr>\n",
       "      <th>ZhouChen</th>\n",
       "      <td>132.0</td>\n",
       "      <td>8.741581</td>\n",
       "      <td>1.324473</td>\n",
       "      <td>-0.256663</td>\n",
       "      <td>0.107522</td>\n",
       "      <td>0.0</td>\n",
       "      <td>0.0</td>\n",
       "      <td>0.0</td>\n",
       "      <td>0.0</td>\n",
       "      <td>0.0</td>\n",
       "      <td>0.0</td>\n",
       "      <td>0.0</td>\n",
       "    </tr>\n",
       "    <tr>\n",
       "      <th>ZhouChen</th>\n",
       "      <td>132.0</td>\n",
       "      <td>8.750340</td>\n",
       "      <td>1.360741</td>\n",
       "      <td>-0.238135</td>\n",
       "      <td>0.078649</td>\n",
       "      <td>0.0</td>\n",
       "      <td>0.0</td>\n",
       "      <td>0.0</td>\n",
       "      <td>0.0</td>\n",
       "      <td>0.0</td>\n",
       "      <td>0.0</td>\n",
       "      <td>0.0</td>\n",
       "    </tr>\n",
       "  </tbody>\n",
       "</table>\n",
       "<p>133000 rows × 12 columns</p>\n",
       "</div>"
      ],
      "text/plain": [
       "             id      time  values_0  values_1  values_2  values_3  values_4  \\\n",
       "Aizawa      0.0  0.000000 -0.791445 -2.195360  0.564000       0.0       0.0   \n",
       "Aizawa      0.0  0.025859 -0.592175 -2.274252  0.520937       0.0       0.0   \n",
       "Aizawa      0.0  0.051717 -0.384373 -2.333496  0.477200       0.0       0.0   \n",
       "Aizawa      0.0  0.077576 -0.170204 -2.372270  0.432803       0.0       0.0   \n",
       "Aizawa      0.0  0.103434  0.048135 -2.389950  0.387774       0.0       0.0   \n",
       "...         ...       ...       ...       ...       ...       ...       ...   \n",
       "ZhouChen  132.0  8.715304  1.218368 -0.302109  0.177545       0.0       0.0   \n",
       "ZhouChen  132.0  8.724063  1.253220 -0.288478  0.156669       0.0       0.0   \n",
       "ZhouChen  132.0  8.732822  1.288620 -0.273386  0.133433       0.0       0.0   \n",
       "ZhouChen  132.0  8.741581  1.324473 -0.256663  0.107522       0.0       0.0   \n",
       "ZhouChen  132.0  8.750340  1.360741 -0.238135  0.078649       0.0       0.0   \n",
       "\n",
       "          values_5  values_6  values_7  values_8  values_9  \n",
       "Aizawa         0.0       0.0       0.0       0.0       0.0  \n",
       "Aizawa         0.0       0.0       0.0       0.0       0.0  \n",
       "Aizawa         0.0       0.0       0.0       0.0       0.0  \n",
       "Aizawa         0.0       0.0       0.0       0.0       0.0  \n",
       "Aizawa         0.0       0.0       0.0       0.0       0.0  \n",
       "...            ...       ...       ...       ...       ...  \n",
       "ZhouChen       0.0       0.0       0.0       0.0       0.0  \n",
       "ZhouChen       0.0       0.0       0.0       0.0       0.0  \n",
       "ZhouChen       0.0       0.0       0.0       0.0       0.0  \n",
       "ZhouChen       0.0       0.0       0.0       0.0       0.0  \n",
       "ZhouChen       0.0       0.0       0.0       0.0       0.0  \n",
       "\n",
       "[133000 rows x 12 columns]"
      ]
     },
     "metadata": {},
     "output_type": "display_data"
    },
    {
     "data": {
      "text/plain": [
       "[<matplotlib.lines.Line2D at 0x7fdc4fb40430>]"
      ]
     },
     "metadata": {},
     "output_type": "display_data"
    },
    {
     "data": {
      "image/png": "[encoded data removed]",
      "text/plain": [
       "<Figure size 432x288 with 1 Axes>"
      ]
     },
     "metadata": {},
     "output_type": "display_data"
    }
   ],
   "source": [
    "from matplotlib import pyplot as plt\n",
    "\n",
    "d = load_dataset(subsets=\"train\", data_format=\"pandas\", standardize=True, univariate=False)\n",
    "display(d)\n",
    "\n",
    "t = d[d[\"id\"] == 0]\n",
    "plt.plot(t[\"time\"], t[\"values_0\"])\n",
    "plt.plot(t[\"time\"], t[\"values_1\"])\n",
    "plt.plot(t[\"time\"], t[\"values_2\"])\n"
   ]
  },
  {
   "cell_type": "markdown",
   "metadata": {},
   "source": [
    "## Wrangle precomputed dataset into correct format"
   ]
  },
  {
   "cell_type": "code",
   "execution_count": 59,
   "metadata": {},
   "outputs": [
    {
     "ename": "NameError",
     "evalue": "name 'autonomous_systems' is not defined",
     "output_type": "error",
     "traceback": [
      "\u001b[0;31m---------------------------------------------------------------------------\u001b[0m",
      "\u001b[0;31mNameError\u001b[0m                                 Traceback (most recent call last)",
      "Cell \u001b[0;32mIn [59], line 74\u001b[0m\n\u001b[1;32m     70\u001b[0m     \u001b[38;5;28;01mreturn\u001b[39;00m dataset\n\u001b[1;32m     73\u001b[0m \u001b[38;5;66;03m# np.set_printoptions(threshold=sys.maxsize)\u001b[39;00m\n\u001b[0;32m---> 74\u001b[0m \u001b[43mgenerate_dataset_chaotic\u001b[49m\u001b[43m(\u001b[49m\u001b[43msave\u001b[49m\u001b[38;5;241;43m=\u001b[39;49m\u001b[38;5;28;43;01mTrue\u001b[39;49;00m\u001b[43m)\u001b[49m\n",
      "Cell \u001b[0;32mIn [59], line 20\u001b[0m, in \u001b[0;36mgenerate_dataset_chaotic\u001b[0;34m(trainset_size, valset_size, testset_size, save)\u001b[0m\n\u001b[1;32m     16\u001b[0m precomputed_dataset \u001b[38;5;241m=\u001b[39m load_dataset(\n\u001b[1;32m     17\u001b[0m     subsets\u001b[38;5;241m=\u001b[39msubset, data_format\u001b[38;5;241m=\u001b[39m\u001b[38;5;124m\"\u001b[39m\u001b[38;5;124mpandas\u001b[39m\u001b[38;5;124m\"\u001b[39m, standardize\u001b[38;5;241m=\u001b[39m\u001b[38;5;28;01mTrue\u001b[39;00m, univariate\u001b[38;5;241m=\u001b[39m\u001b[38;5;28;01mFalse\u001b[39;00m\n\u001b[1;32m     18\u001b[0m )\n\u001b[1;32m     19\u001b[0m \u001b[38;5;66;03m# filter to keep only autonomous systems\u001b[39;00m\n\u001b[0;32m---> 20\u001b[0m precomputed_dataset \u001b[38;5;241m=\u001b[39m precomputed_dataset[precomputed_dataset\u001b[38;5;241m.\u001b[39mindex\u001b[38;5;241m.\u001b[39misin(\u001b[43mautonomous_systems\u001b[49m)]\n\u001b[1;32m     22\u001b[0m \u001b[38;5;66;03m# Get the first trajectory to determine dt and steps\u001b[39;00m\n\u001b[1;32m     23\u001b[0m first_traj \u001b[38;5;241m=\u001b[39m precomputed_dataset[precomputed_dataset[\u001b[38;5;124m\"\u001b[39m\u001b[38;5;124mid\u001b[39m\u001b[38;5;124m\"\u001b[39m] \u001b[38;5;241m==\u001b[39m \u001b[38;5;241m0\u001b[39m]\n",
      "\u001b[0;31mNameError\u001b[0m: name 'autonomous_systems' is not defined"
     ]
    }
   ],
   "source": [
    "from dysts_data.datasets import load_dataset, TimeSeriesDataset\n",
    "import numpy as np\n",
    "import torch\n",
    "import sys\n",
    "\n",
    "def generate_dataset_chaotic(\n",
    "    trainset_size=80, valset_size=16, testset_size=16, save=False\n",
    "):\n",
    "    num_states = 4  # time and 3D coordinates\n",
    "    dataset = {}\n",
    "\n",
    "    for i, (tag, subset) in enumerate(\n",
    "        zip([\"train\", \"val\", \"test\"], [\"train\", \"train_val\", \"test_all\"])\n",
    "    ):\n",
    "        # load appropriate subset of dataset (more info here: https://www.wgilpin.com/dysts/spbuild/html/index.html)\n",
    "        precomputed_dataset = load_dataset(\n",
    "            subsets=subset, data_format=\"pandas\", standardize=True, univariate=False\n",
    "        )\n",
    "        # filter to keep only autonomous systems\n",
    "        precomputed_dataset = precomputed_dataset[precomputed_dataset.index.isin(autonomous_systems)]\n",
    "\n",
    "        # Get the first trajectory to determine dt and steps\n",
    "        first_traj = precomputed_dataset[precomputed_dataset[\"id\"] == 0]\n",
    "        times = first_traj[\"time\"].values\n",
    "        dt = times[1] - times[0]  # Get dt from first trajectory\n",
    "        total_steps = len(first_traj)\n",
    "        \n",
    "        # Print info for verification\n",
    "        print(f\"Dataset {subset} info:\")\n",
    "        print(f\"{dt = }\")\n",
    "        print(f\"{total_steps = }\\n\")\n",
    "\n",
    "        # each split has the dimension of (split_size * total_steps * num_states)\n",
    "        split_name = tag + \"set\"\n",
    "        split_size = eval(split_name + \"_size\")\n",
    "        dataset[split_name] = np.zeros((split_size, total_steps, num_states))\n",
    "\n",
    "        # fill in trajectories\n",
    "        available_ids = sorted(precomputed_dataset[\"id\"].unique())\n",
    "        for j in range(split_size):\n",
    "            # select trajectory sequentially\n",
    "            trajectory = precomputed_dataset[precomputed_dataset[\"id\"] == available_ids[j]]\n",
    "\n",
    "            # wrangle into correct datatype & shape, and then put it in the dataset\n",
    "            list_of_lists = trajectory[[\"time\", \"values_0\", \"values_1\", \"values_2\"]].values.tolist()\n",
    "            dataset[split_name][j, :, :] = list_of_lists\n",
    "\n",
    "    # check the range for every state in the training set\n",
    "    domain_range = []\n",
    "    temp_data = dataset[\"trainset\"].reshape([-1, num_states])\n",
    "    for i in range(num_states):\n",
    "        domain_range.append(\n",
    "            np.array([np.min(temp_data[:, i]), np.max(temp_data[:, i])])\n",
    "        )\n",
    "    domain_range = np.row_stack(domain_range)\n",
    "\n",
    "    if save:\n",
    "        data_func_name = \"chaotic-systems\"\n",
    "        np.savez(\n",
    "            f\"./data/{data_func_name}_torch.npz\",\n",
    "            train_data=dataset[\"trainset\"],\n",
    "            val_data=dataset[\"valset\"],\n",
    "            test_data=dataset[\"testset\"],\n",
    "            range=domain_range,\n",
    "            num_states=num_states,\n",
    "            time_steps=np.arange(0, total_steps, dt),\n",
    "            data_name=data_func_name,\n",
    "        )\n",
    "\n",
    "    return dataset\n",
    "\n",
    "\n",
    "# np.set_printoptions(threshold=sys.maxsize)\n",
    "generate_dataset_chaotic(save=True)"
   ]
  }
 ],
 "metadata": {
  "kernelspec": {
   "display_name": ".guix-profile",
   "language": "python",
   "name": "python3"
  },
  "language_info": {
   "codemirror_mode": {
    "name": "ipython",
    "version": 3
   },
   "file_extension": ".py",
   "mimetype": "text/x-python",
   "name": "python",
   "nbconvert_exporter": "python",
   "pygments_lexer": "ipython3",
   "version": "3.10.7"
  }
 },
 "nbformat": 4,
 "nbformat_minor": 2
}
